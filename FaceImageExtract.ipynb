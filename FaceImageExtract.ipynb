{
 "cells": [
  {
   "cell_type": "markdown",
   "metadata": {},
   "source": [
    "# LRS3 Extract Images from video"
   ]
  },
  {
   "cell_type": "markdown",
   "metadata": {},
   "source": [
    "## Imports"
   ]
  },
  {
   "cell_type": "code",
   "execution_count": 1,
   "metadata": {},
   "outputs": [],
   "source": [
    "from pathlib import Path\n",
    "from tqdm import tqdm\n",
    "from more_itertools import ilen\n",
    "from collections import defaultdict\n",
    "import math\n",
    "from multiprocessing import Pool"
   ]
  },
  {
   "cell_type": "code",
   "execution_count": 2,
   "metadata": {},
   "outputs": [],
   "source": [
    "data_dir = Path(\"/mnt/U/Datasets/lrs3pretrain/pretrain/\")\n",
    "images_dir = Path(\"/mnt/U/Datasets/lrs3pretrain/pretrain_images/\")"
   ]
  },
  {
   "cell_type": "code",
   "execution_count": 3,
   "metadata": {},
   "outputs": [],
   "source": [
    "speakers = list(data_dir.glob(\"*\"))\n",
    "utt_per_spk = {x.name: list(x.glob(\"*.mp4\")) for x in speakers}\n",
    "n_utt_per_spk = {x: len(y) for x, y in utt_per_spk.items()}\n",
    "n_utterances = sum(n_utt_per_spk.values())"
   ]
  },
  {
   "cell_type": "code",
   "execution_count": 4,
   "metadata": {},
   "outputs": [],
   "source": [
    "def get_out_path(spk_utt):\n",
    "    spk, utt = spk_utt\n",
    "    out_path = images_dir / spk / (utt.stem + \"_%d.jpg\")\n",
    "    if not out_path.parent.exists():\n",
    "        out_path.parent.mkdir(parents=True, exist_ok=True)\n",
    "    return out_path\n",
    "\n",
    "def extract_images(utt_outpath):\n",
    "    utt, out_path = utt_outpath\n",
    "    !ffmpeg -i {utt} -s 224x224 -vf fps=0.25 {out_path} -loglevel quiet"
   ]
  },
  {
   "cell_type": "code",
   "execution_count": 5,
   "metadata": {},
   "outputs": [],
   "source": [
    "spk_utts = []\n",
    "for spk, utts in utt_per_spk.items():\n",
    "    spk_utts += [(spk, utt) for utt in utts]\n",
    "paths = list(map(get_out_path, spk_utts))\n",
    "spk_paths = list(zip([x[1] for x in spk_utts], paths))"
   ]
  },
  {
   "cell_type": "code",
   "execution_count": null,
   "metadata": {},
   "outputs": [],
   "source": [
    "p = Pool(16)\n",
    "list(tqdm(p.imap_unordered(extract_images, spk_paths), total=n_utterances))"
   ]
  }
 ],
 "metadata": {
  "kernelspec": {
   "display_name": "esptest3",
   "language": "python",
   "name": "esptest3"
  },
  "language_info": {
   "codemirror_mode": {
    "name": "ipython",
    "version": 3
   },
   "file_extension": ".py",
   "mimetype": "text/x-python",
   "name": "python",
   "nbconvert_exporter": "python",
   "pygments_lexer": "ipython3",
   "version": "3.6.9"
  }
 },
 "nbformat": 4,
 "nbformat_minor": 4
}
