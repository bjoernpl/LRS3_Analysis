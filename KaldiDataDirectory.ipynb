{
 "cells": [
  {
   "cell_type": "markdown",
   "metadata": {},
   "source": [
    "# Kaldi style data directory creation\n",
    "\n",
    "The kaldi style data directory is required to use the dataset for ESPnet2 finetuning.\n",
    "\n",
    "<u>Directory structure:</u>\n",
    "\n",
    "`data/\n",
    "  train/\n",
    "    - text     # The transcription\n",
    "    - wav.scp  # Wave file path\n",
    "    - utt2spk  # A file mapping utterance-id to speaker-id\n",
    "    - spk2utt  # A file mapping speaker-id to utterance-id\n",
    "    - segments # [Option] Specifying start and end time of each utterance\n",
    "  dev/\n",
    "    ...\n",
    "  test/\n",
    "    ...`"
   ]
  },
  {
   "cell_type": "code",
   "execution_count": 2,
   "metadata": {},
   "outputs": [],
   "source": [
    "# Imports\n",
    "from pathlib import Path\n",
    "from tqdm import tqdm\n",
    "from more_itertools import ilen\n",
    "from collections import defaultdict\n",
    "import math\n",
    "import os\n",
    "from os.path import join"
   ]
  },
  {
   "cell_type": "markdown",
   "metadata": {},
   "source": [
    "### Text transcription\n",
    "\n",
    "`uttidA <transcription>\n",
    "uttidB <transcription>\n",
    "...`"
   ]
  },
  {
   "cell_type": "code",
   "execution_count": 20,
   "metadata": {},
   "outputs": [],
   "source": [
    "data_dir = Path(\"/mnt/U/Datasets/lrs3pretrain/processed/text/\")\n",
    "text_transcription_path = Path(\"/mnt/U/Datasets/lrs3pretrain/processed/data_dir/text\")"
   ]
  },
  {
   "cell_type": "code",
   "execution_count": 23,
   "metadata": {},
   "outputs": [
    {
     "name": "stderr",
     "output_type": "stream",
     "text": [
      "Generating uttid -> transcription file: 267225it [00:20, 13060.08it/s]\n"
     ]
    }
   ],
   "source": [
    "lines = []\n",
    "with tqdm(desc=\"Generating uttid -> transcription file\") as pbar:\n",
    "    for dirpath, _, files in os.walk(data_dir):\n",
    "        if files:\n",
    "            speaker_name = dirpath.split(\"/\")[-1]\n",
    "            for file in files:\n",
    "                utt_name = file.split(\".\")[0]\n",
    "                file_path = join(dirpath, file)\n",
    "                with open(file_path, 'r') as f:\n",
    "                    line = f.readline()\n",
    "                lines += [f\"{speaker_name}_{utt_name} {line}\\n\"]\n",
    "        pbar.update(len(files))"
   ]
  },
  {
   "cell_type": "code",
   "execution_count": 22,
   "metadata": {},
   "outputs": [],
   "source": [
    "if not text_transcription_path.parent.exists():\n",
    "    text_transcription_path.parent.mkdir(parents=True)\n",
    "with open(text_transcription_path, 'w') as f:\n",
    "    f.writelines(lines)"
   ]
  },
  {
   "cell_type": "markdown",
   "metadata": {},
   "source": [
    "### wav.scp generation\n",
    "\n",
    "`uttidA /path/to/uttidA.wav\n",
    "uttidB /path/to/uttidB.wav\n",
    "...\n",
    "`"
   ]
  },
  {
   "cell_type": "code",
   "execution_count": 27,
   "metadata": {},
   "outputs": [],
   "source": [
    "wav_dir = Path(\"/mnt/U/Datasets/lrs3pretrain/processed/audio_segments/pretrain\")\n",
    "wav_scp_path = Path(\"/mnt/U/Datasets/lrs3pretrain/processed/data_dir/wav.scp\")"
   ]
  },
  {
   "cell_type": "code",
   "execution_count": 29,
   "metadata": {},
   "outputs": [
    {
     "name": "stderr",
     "output_type": "stream",
     "text": [
      "Generating uttid -> wav path file: 260174it [00:00, 308806.20it/s]\n"
     ]
    }
   ],
   "source": [
    "lines = []\n",
    "with tqdm(desc=\"Generating uttid -> wav path file\") as pbar:\n",
    "    for dirpath, _, files in os.walk(wav_dir):\n",
    "        if files:\n",
    "            speaker_name = dirpath.split(\"/\")[-1]\n",
    "            for file in files:\n",
    "                utt_name = file.split(\".\")[0]\n",
    "                file_path = join(dirpath, file)\n",
    "                lines += [f\"{speaker_name}_{utt_name} {file_path}\\n\"]\n",
    "        pbar.update(len(files))"
   ]
  },
  {
   "cell_type": "code",
   "execution_count": 28,
   "metadata": {},
   "outputs": [],
   "source": [
    "with open(wav_scp_path, 'w') as f:\n",
    "    f.writelines(lines)"
   ]
  },
  {
   "cell_type": "markdown",
   "metadata": {},
   "source": [
    "### utt2spk generation\n",
    "\n",
    "`uttidA speakerA\n",
    "uttidB speakerB\n",
    "uttidC speakerA\n",
    "uttidD speakerB\n",
    "...\n",
    "`"
   ]
  },
  {
   "cell_type": "code",
   "execution_count": 32,
   "metadata": {},
   "outputs": [],
   "source": [
    "utt2spk_path = Path(\"/mnt/U/Datasets/lrs3pretrain/processed/data_dir/utt2spk\")"
   ]
  },
  {
   "cell_type": "code",
   "execution_count": 36,
   "metadata": {},
   "outputs": [
    {
     "name": "stderr",
     "output_type": "stream",
     "text": [
      "Generating utt2spk file: 267225it [00:00, 405316.48it/s]\n"
     ]
    }
   ],
   "source": [
    "lines = []\n",
    "with tqdm(desc=\"Generating utt2spk file\") as pbar:\n",
    "    for dirpath, _, files in os.walk(data_dir):\n",
    "        if files:\n",
    "            speaker_name = dirpath.split(\"/\")[-1]\n",
    "            for file in files:\n",
    "                utt_name = file.split(\".\")[0]\n",
    "                lines += [f\"{speaker_name}_{utt_name} {speaker_name}\\n\"]\n",
    "        pbar.update(len(files))"
   ]
  },
  {
   "cell_type": "code",
   "execution_count": 34,
   "metadata": {},
   "outputs": [],
   "source": [
    "with open(utt2spk_path, 'w') as f:\n",
    "    f.writelines(lines)"
   ]
  },
  {
   "cell_type": "markdown",
   "metadata": {},
   "source": [
    "### spk2utt generation\n",
    "`speakerA uttidA uttidC ...\n",
    "speakerB uttidB uttidD ...\n",
    "...\n",
    "`"
   ]
  },
  {
   "cell_type": "code",
   "execution_count": 35,
   "metadata": {},
   "outputs": [],
   "source": [
    "spk2utt_path = Path(\"/mnt/U/Datasets/lrs3pretrain/processed/data_dir/utt2spk\")"
   ]
  },
  {
   "cell_type": "code",
   "execution_count": 38,
   "metadata": {},
   "outputs": [
    {
     "name": "stderr",
     "output_type": "stream",
     "text": [
      "Generating spk2utt file: 267225it [00:00, 432371.70it/s]\n"
     ]
    }
   ],
   "source": [
    "lines = []\n",
    "with tqdm(desc=\"Generating spk2utt file\") as pbar:\n",
    "    for dirpath, _, files in os.walk(data_dir):\n",
    "        if files:\n",
    "            spk_files = []\n",
    "            speaker_name = dirpath.split(\"/\")[-1]\n",
    "            for file in files:\n",
    "                utt_name = file.split(\".\")[0]\n",
    "                spk_files += [f\"{speaker_name}_{utt_name}\"]\n",
    "            lines += [f\"{speaker_name} {' '.join(spk_files)}\\n\"]\n",
    "        pbar.update(len(files))"
   ]
  },
  {
   "cell_type": "code",
   "execution_count": 40,
   "metadata": {},
   "outputs": [],
   "source": [
    "with open(spk2utt_path, 'w') as f:\n",
    "    f.writelines(lines)"
   ]
  },
  {
   "cell_type": "code",
   "execution_count": null,
   "metadata": {},
   "outputs": [],
   "source": []
  }
 ],
 "metadata": {
  "kernelspec": {
   "display_name": "esptest3",
   "language": "python",
   "name": "esptest3"
  },
  "language_info": {
   "codemirror_mode": {
    "name": "ipython",
    "version": 3
   },
   "file_extension": ".py",
   "mimetype": "text/x-python",
   "name": "python",
   "nbconvert_exporter": "python",
   "pygments_lexer": "ipython3",
   "version": "3.6.9"
  }
 },
 "nbformat": 4,
 "nbformat_minor": 4
}
