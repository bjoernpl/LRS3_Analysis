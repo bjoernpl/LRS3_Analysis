{
 "cells": [
  {
   "cell_type": "code",
   "execution_count": 6,
   "metadata": {},
   "outputs": [],
   "source": [
    "from pathlib import Path\n",
    "from tqdm import tqdm\n",
    "from facenet_pytorch import InceptionResnetV1, MTCNN\n",
    "from PIL import Image\n",
    "import numpy  as np\n",
    "import torch\n",
    "import math\n",
    "import warnings\n",
    "from multiprocessing import Pool\n",
    "warnings.filterwarnings('ignore')"
   ]
  },
  {
   "cell_type": "code",
   "execution_count": 7,
   "metadata": {},
   "outputs": [],
   "source": [
    "images_dir = Path(\"/mnt/U/Datasets/lrs3pretrain/test_images/\")\n",
    "outpath = images_dir.parent / \"test_cropped_images\""
   ]
  },
  {
   "cell_type": "code",
   "execution_count": 8,
   "metadata": {},
   "outputs": [],
   "source": [
    "speakers = list(images_dir.glob(\"*\"))\n",
    "im_per_spk = {x.name: list(x.glob(\"*.jpg\")) for x in speakers}\n",
    "im_paths = []\n",
    "for speaker, ims in im_per_spk.items():\n",
    "    for im in ims:\n",
    "        out = outpath / speaker / im.name\n",
    "        if not out.exists():\n",
    "            im_paths += [(im, str(out))]"
   ]
  },
  {
   "cell_type": "code",
   "execution_count": 9,
   "metadata": {},
   "outputs": [],
   "source": [
    "model = InceptionResnetV1(pretrained='vggface2', device=\"cuda\").eval()\n",
    "mtcnn = MTCNN(margin=10, post_process=False, device=\"cuda\")"
   ]
  },
  {
   "cell_type": "code",
   "execution_count": 10,
   "metadata": {
    "scrolled": true
   },
   "outputs": [
    {
     "name": "stderr",
     "output_type": "stream",
     "text": [
      "\n",
      "26624it [02:50, 227.12it/s]00<?, ?it/s]\u001b[A\n",
      " 79%|███████▉  | 512/650 [00:03<00:00, 165.42it/s]\u001b[A\n",
      "1024it [00:03, 214.34it/s]                        \u001b[A\n",
      "1024it [00:20, 214.34it/s]\u001b[A"
     ]
    }
   ],
   "source": [
    "batch_size = 512\n",
    "p = Pool(16)\n",
    "skipped = im_paths.pop(0)\n",
    "pbar = tqdm(total=len(im_paths))\n",
    "for i in range(math.ceil(len(im_paths)/batch_size)):\n",
    "    ims, paths = list(zip(*im_paths[i*batch_size:(i+1)*batch_size]))\n",
    "    images = list(p.map(Image.open, ims))\n",
    "    mtcnn(images, save_path=paths)\n",
    "    pbar.update(batch_size)\n"
   ]
  },
  {
   "cell_type": "code",
   "execution_count": null,
   "metadata": {},
   "outputs": [],
   "source": []
  }
 ],
 "metadata": {
  "kernelspec": {
   "display_name": "esptest3",
   "language": "python",
   "name": "esptest3"
  },
  "language_info": {
   "codemirror_mode": {
    "name": "ipython",
    "version": 3
   },
   "file_extension": ".py",
   "mimetype": "text/x-python",
   "name": "python",
   "nbconvert_exporter": "python",
   "pygments_lexer": "ipython3",
   "version": "3.6.9"
  }
 },
 "nbformat": 4,
 "nbformat_minor": 4
}
