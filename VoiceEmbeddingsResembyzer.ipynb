{
 "cells": [
  {
   "cell_type": "code",
   "execution_count": 5,
   "metadata": {},
   "outputs": [],
   "source": [
    "%matplotlib widget"
   ]
  },
  {
   "cell_type": "code",
   "execution_count": 6,
   "metadata": {},
   "outputs": [],
   "source": [
    "from pathlib import Path\n",
    "from tqdm import tqdm\n",
    "from facenet_pytorch import InceptionResnetV1, MTCNN\n",
    "from demo_utils import *\n",
    "import numpy  as np\n",
    "import torch\n",
    "from resemblyzer import VoiceEncoder, preprocess_wav"
   ]
  },
  {
   "cell_type": "code",
   "execution_count": 7,
   "metadata": {},
   "outputs": [],
   "source": [
    "images_dir = Path(\"/mnt/U/Datasets/lrs3pretrain/pretrain_audio/\")"
   ]
  },
  {
   "cell_type": "code",
   "execution_count": 8,
   "metadata": {},
   "outputs": [],
   "source": [
    "speakers = list(images_dir.glob(\"*\"))\n",
    "utt_per_spk = {x.name: list(x.glob(\"*.wav\")) for x in speakers}"
   ]
  },
  {
   "cell_type": "code",
   "execution_count": 9,
   "metadata": {},
   "outputs": [
    {
     "name": "stdout",
     "output_type": "stream",
     "text": [
      "Loaded the voice encoder model on cuda in 0.03 seconds.\n"
     ]
    }
   ],
   "source": [
    "encoder = VoiceEncoder(device=\"cuda\")"
   ]
  },
  {
   "cell_type": "code",
   "execution_count": 10,
   "metadata": {},
   "outputs": [],
   "source": [
    "speaker_names = []\n",
    "audio_paths = []\n",
    "for speaker in speakers[:13]:\n",
    "    utt_paths =  utt_per_spk[speaker.name][:40]\n",
    "    audio_paths += utt_paths\n",
    "    speaker_names += [speaker.name]*len(utt_paths)"
   ]
  },
  {
   "cell_type": "code",
   "execution_count": 11,
   "metadata": {},
   "outputs": [
    {
     "name": "stderr",
     "output_type": "stream",
     "text": [
      "Preprocessing audio: 100%|██████████| 365/365 [00:47<00:00,  7.74it/s]\n"
     ]
    }
   ],
   "source": [
    "images_processed = list(map(preprocess_wav, tqdm(audio_paths, \"Preprocessing audio\")))"
   ]
  },
  {
   "cell_type": "code",
   "execution_count": 12,
   "metadata": {
    "scrolled": true
   },
   "outputs": [
    {
     "name": "stderr",
     "output_type": "stream",
     "text": [
      "Getting embeddings: 100%|██████████| 365/365 [00:07<00:00, 50.81it/s]\n"
     ]
    }
   ],
   "source": [
    "with torch.no_grad():\n",
    "    embeds = np.array(list(map(encoder.embed_utterance, tqdm(images_processed, \"Getting embeddings\"))))"
   ]
  },
  {
   "cell_type": "code",
   "execution_count": 14,
   "metadata": {},
   "outputs": [
    {
     "data": {
      "application/vnd.jupyter.widget-view+json": {
       "model_id": "8de59507f14e4828881402086903a202",
       "version_major": 2,
       "version_minor": 0
      },
      "text/plain": [
       "Canvas(toolbar=Toolbar(toolitems=[('Home', 'Reset original view', 'home', 'home'), ('Back', 'Back to previous …"
      ]
     },
     "metadata": {},
     "output_type": "display_data"
    }
   ],
   "source": [
    "plot_projections(embeds[:], speaker_names, title=\"Embedding projections\", n_components=3)\n",
    "plt.show()"
   ]
  },
  {
   "cell_type": "code",
   "execution_count": null,
   "metadata": {},
   "outputs": [],
   "source": []
  }
 ],
 "metadata": {
  "kernelspec": {
   "display_name": "esptest3",
   "language": "python",
   "name": "esptest3"
  },
  "language_info": {
   "codemirror_mode": {
    "name": "ipython",
    "version": 3
   },
   "file_extension": ".py",
   "mimetype": "text/x-python",
   "name": "python",
   "nbconvert_exporter": "python",
   "pygments_lexer": "ipython3",
   "version": "3.6.9"
  }
 },
 "nbformat": 4,
 "nbformat_minor": 4
}
